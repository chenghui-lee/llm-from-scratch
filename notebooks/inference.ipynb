{
 "cells": [
  {
   "cell_type": "code",
   "execution_count": null,
   "id": "1ba64cb6",
   "metadata": {
    "vscode": {
     "languageId": "markdown"
    }
   },
   "outputs": [],
   "source": [
    "This notebook is for inference, both the causal and fine-tuned models."
   ]
  },
  {
   "cell_type": "markdown",
   "id": "1f0c1a7e",
   "metadata": {},
   "source": [
    "## Base model"
   ]
  },
  {
   "cell_type": "code",
   "execution_count": null,
   "id": "8471eb89",
   "metadata": {},
   "outputs": [],
   "source": [
    "from transformers import AutoTokenizer, AutoModelForCausalLM\n",
    "import torch\n",
    "\n",
    "model_path = \"./fineweb-gpt2-final\"\n",
    "\n",
    "tokenizer = AutoTokenizer.from_pretrained(model_path)\n",
    "model = AutoModelForCausalLM.from_pretrained(model_path)\n",
    "\n",
    "device = torch.device(\"cuda\" if torch.cuda.is_available() else \"cpu\")\n",
    "model.to(device)\n",
    "model.eval()"
   ]
  },
  {
   "cell_type": "code",
   "execution_count": null,
   "id": "c42940a7",
   "metadata": {},
   "outputs": [],
   "source": [
    "input_text = \"Once upon a time\"\n",
    "\n",
    "input_ids = tokenizer.encode(input_text, return_tensors=\"pt\").to(device)\n",
    "\n",
    "output_ids = model.generate(\n",
    "    input_ids,\n",
    "    max_new_tokens=20,\n",
    "    do_sample=True,\n",
    "    temperature=0.8,\n",
    "    top_k=50,\n",
    "    top_p=0.95\n",
    ")\n",
    "\n",
    "output_text = tokenizer.decode(output_ids[0], skip_special_tokens=True)\n",
    "print(output_text)"
   ]
  },
  {
   "cell_type": "markdown",
   "id": "a13adf3a",
   "metadata": {},
   "source": [
    "## Instruct model"
   ]
  },
  {
   "cell_type": "code",
   "execution_count": null,
   "id": "c7ce93aa",
   "metadata": {},
   "outputs": [],
   "source": [
    "FINAL_MODEL_PATH = './gpt2-instruct'"
   ]
  },
  {
   "cell_type": "code",
   "execution_count": null,
   "id": "36baaf6c",
   "metadata": {},
   "outputs": [],
   "source": [
    "from transformers import pipeline\n",
    "\n",
    "pipe = pipeline(\"text-generation\", model=FINAL_MODEL_PATH, tokenizer=FINAL_MODEL_PATH, device=0 if torch.cuda.is_available() else -1)\n"
   ]
  },
  {
   "cell_type": "code",
   "execution_count": null,
   "id": "bdf2b607",
   "metadata": {},
   "outputs": [],
   "source": [
    "messages = [\n",
    "   {\"role\": \"user\", \"content\": \"Define the job accounting\"},\n",
    "]\n",
    "\n",
    "prompt = tokenizer.apply_chat_template(messages, tokenize=False, add_generation_prompt=True)\n",
    "outputs = pipe(prompt, max_new_tokens=200, num_return_sequences=1,eos_token_id=tokenizer.eos_token_id, pad_token_id=tokenizer.pad_token_id, repetition_penalty=1.1)\n",
    "print(outputs[0][\"generated_text\"])"
   ]
  }
 ],
 "metadata": {
  "language_info": {
   "name": "python"
  }
 },
 "nbformat": 4,
 "nbformat_minor": 5
}
