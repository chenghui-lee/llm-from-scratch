{
 "cells": [
  {
   "cell_type": "markdown",
   "id": "4012dbf7",
   "metadata": {},
   "source": [
    "## 1. Train tokenizer"
   ]
  },
  {
   "cell_type": "code",
   "execution_count": null,
   "id": "b6bbe89f",
   "metadata": {},
   "outputs": [],
   "source": [
    "%%capture\n",
    "!pip install tokenizers transformers datasets[s3]"
   ]
  },
  {
   "cell_type": "code",
   "execution_count": null,
   "id": "ca3e36b4",
   "metadata": {},
   "outputs": [],
   "source": [
    "from datasets import load_dataset                                          \n",
    "from tokenizers import ByteLevelBPETokenizer                              \n",
    "from transformers import PreTrainedTokenizerFast                           \n",
    "\n",
    "dataset = load_dataset(\n",
    "    \"HuggingFaceFW/fineweb\",\n",
    "    \"sample-10BT\",\n",
    "    split=\"train\", \n",
    "    streaming=False\n",
    ")"
   ]
  },
  {
   "cell_type": "code",
   "execution_count": null,
   "id": "3296df20",
   "metadata": {},
   "outputs": [],
   "source": [
    "## Remove non text columns, https://discuss.huggingface.co/t/speed-issues-using-tokenizer-train-new-from-iterator-on-50gb-dataset/29125\n",
    "dataset = dataset.remove_columns([\n",
    "        col for col in dataset.column_names if col != \"text\"\n",
    "])"
   ]
  },
  {
   "cell_type": "code",
   "execution_count": null,
   "id": "19a473f2",
   "metadata": {},
   "outputs": [],
   "source": [
    "# train a byte-level BPE tokenizer\n",
    "tokenizer = ByteLevelBPETokenizer()\n",
    "special_tokens = [\"<s>\", \"<pad>\", \"</s>\", \"<unk>\", \"<mask>\"]\n",
    "\n",
    "def batch_iterator(dataset, batch_size=500):\n",
    "    for batch in dataset.iter(batch_size=batch_size):\n",
    "        yield batch[\"text\"]  \n",
    "\n",
    "tokenizer.train_from_iterator(\n",
    "    batch_iterator(dataset),\n",
    "    vocab_size=52_000,\n",
    "    min_frequency=2,\n",
    "    special_tokens=special_tokens,\n",
    "    show_progress=True\n",
    ")"
   ]
  },
  {
   "cell_type": "code",
   "execution_count": null,
   "id": "84af1422",
   "metadata": {},
   "outputs": [],
   "source": [
    "tokenizer.save(\"fineweb-10bt-tokenizer-bpe.json\") "
   ]
  },
  {
   "cell_type": "markdown",
   "id": "bccc572a",
   "metadata": {},
   "source": [
    "## 2. Tokenize datasets"
   ]
  },
  {
   "cell_type": "code",
   "execution_count": null,
   "id": "df2e873a",
   "metadata": {},
   "outputs": [],
   "source": [
    "import os\n",
    "from transformers import PreTrainedTokenizerFast\n",
    "from datasets import load_dataset\n",
    "\n",
    "tokenizer = PreTrainedTokenizerFast(\n",
    "    tokenizer_file=\"fineweb-10bt-tokenizer-bpe.json\",\n",
    "    bos_token=\"<s>\",\n",
    "    eos_token=\"</s>\",\n",
    "    pad_token=\"<pad>\",\n",
    "    unk_token=\"<unk>\",\n",
    "    mask_token=\"<mask>\",\n",
    ")\n",
    "\n",
    "context_length = 1024\n",
    "\n",
    "def concatenate_and_chunk(element):\n",
    "    all_token_ids = []\n",
    "    for text in element[\"text\"]:\n",
    "        token_ids = tokenizer.encode(text, add_special_tokens=False)\n",
    "        all_token_ids.extend(token_ids)\n",
    "        all_token_ids.append(tokenizer.eos_token_id)\n",
    "\n",
    "    total_length = len(all_token_ids)\n",
    "\n",
    "    if total_length < context_length:\n",
    "        return {\"input_ids\": [], \"labels\": []}\n",
    "\n",
    "    total_length = (total_length // context_length) * context_length\n",
    "\n",
    "    # Split the concatenated tokens into chunks of context_length\n",
    "    chunks_input_ids = []\n",
    "    for i in range(0, total_length, context_length):\n",
    "        chunk = all_token_ids[i : i + context_length]\n",
    "        if len(chunk) == context_length:\n",
    "            chunks_input_ids.append(chunk)\n",
    "\n",
    "    output = {\"input_ids\": chunks_input_ids, \"labels\": chunks_input_ids.copy()}\n",
    "    return output\n",
    "\n",
    "\n",
    "print(\"Loading raw dataset...\")\n",
    "raw_dataset = load_dataset(\n",
    "    \"HuggingFaceFW/fineweb\",\n",
    "    \"sample-10BT\",\n",
    "    split=\"train\",\n",
    ")\n",
    "\n",
    "raw_dataset = raw_dataset.remove_columns(\n",
    "    [col for col in raw_dataset.column_names if col != \"text\"]\n",
    ")\n",
    "\n",
    "print(\"Applying tokenization and chunking...\")\n",
    "tokenized_dataset = raw_dataset.map(\n",
    "    concatenate_and_chunk,\n",
    "    batched=True,\n",
    "    remove_columns=raw_dataset.column_names,\n",
    "    num_proc=os.cpu_count(),\n",
    ")\n",
    "\n",
    "print(\"Tokenization complete.\")\n",
    "print(tokenized_dataset[0])\n",
    "\n",
    "\n",
    "tokenized_dataset.save_to_disk(\"./tokenized-dataset\")"
   ]
  },
  {
   "cell_type": "markdown",
   "id": "09847d2a",
   "metadata": {},
   "source": [
    "## 3. Model Pre-training"
   ]
  },
  {
   "cell_type": "code",
   "execution_count": null,
   "id": "91ce51e9",
   "metadata": {},
   "outputs": [],
   "source": [
    "%%capture\n",
    "!pip install wandb torch torchvision torchaudio transformers[torch] 'accelerate>=0.26.0' tokenizers datasets[s3]\n"
   ]
  },
  {
   "cell_type": "code",
   "execution_count": null,
   "id": "321d1670",
   "metadata": {},
   "outputs": [],
   "source": [
    "!wandb login <token>"
   ]
  },
  {
   "cell_type": "code",
   "execution_count": null,
   "id": "6b8e28f9",
   "metadata": {},
   "outputs": [],
   "source": [
    "from datasets import load_from_disk\n",
    "from transformers import (\n",
    "    GPT2Config,\n",
    "    GPT2LMHeadModel,\n",
    "    PreTrainedTokenizerFast,\n",
    "    TrainingArguments,\n",
    "    Trainer,\n",
    "    DataCollatorForLanguageModeling,\n",
    ")\n",
    "\n",
    "tokenized_dataset = load_from_disk(\"./tokenized-dataset\")\n",
    "\n",
    "tokenizer = PreTrainedTokenizerFast(\n",
    "    tokenizer_file=\"fineweb-10bt-tokenizer-bpe.json\",\n",
    "    bos_token=\"<s>\",\n",
    "    eos_token=\"</s>\",\n",
    "    pad_token=\"<pad>\",\n",
    "    unk_token=\"<unk>\",\n",
    "    mask_token=\"<mask>\",\n",
    ")\n",
    "\n",
    "config = GPT2Config(\n",
    "    vocab_size=tokenizer.vocab_size,\n",
    "    n_positions=1024,\n",
    "    n_ctx=1024,\n",
    "    n_embd=1024,\n",
    "    n_layer=24,\n",
    "    n_head=16,\n",
    "    bos_token_id=tokenizer.bos_token_id,\n",
    "    eos_token_id=tokenizer.eos_token_id,\n",
    "    pad_token_id=tokenizer.pad_token_id\n",
    ")\n",
    "\n",
    "model = GPT2LMHeadModel(config)\n",
    "\n",
    "data_collator = DataCollatorForLanguageModeling(\n",
    "    tokenizer=tokenizer,\n",
    "    mlm=False,\n",
    "    pad_to_multiple_of=None,\n",
    ")\n",
    "\n",
    "training_args = TrainingArguments(\n",
    "    output_dir=\"./fineweb-gpt2-356m\",\n",
    "    overwrite_output_dir=True,\n",
    "    num_train_epochs=1,\n",
    "    per_device_train_batch_size=64,\n",
    "    gradient_accumulation_steps=16,  # effective batch size = 1024\n",
    "    learning_rate=1e-4,\n",
    "    weight_decay=0.01,\n",
    "    warmup_ratio=0.03,\n",
    "    logging_steps=25,\n",
    "    save_steps=500,\n",
    "    save_total_limit=3,\n",
    "    prediction_loss_only=True,\n",
    "    fp16=True,\n",
    "    logging_dir='./logs-356m',\n",
    "    report_to=\"wandb\",\n",
    "    run_name = \"fineweb-gpt2-356m-0p2\",\n",
    "    torch_compile=True,\n",
    "    lr_scheduler_type=\"cosine\",\n",
    "    seed=3047,\n",
    ")\n",
    "\n",
    "trainer = Trainer(\n",
    "    model=model,\n",
    "    args=training_args,\n",
    "    data_collator=data_collator,\n",
    "    train_dataset=tokenized_dataset,\n",
    ")\n",
    "\n",
    "trainer.train()"
   ]
  },
  {
   "cell_type": "code",
   "execution_count": null,
   "id": "4ddee0c2",
   "metadata": {},
   "outputs": [],
   "source": [
    "trainer.save_model(\"./fineweb-gpt2-final\")"
   ]
  }
 ],
 "metadata": {
  "language_info": {
   "name": "python"
  }
 },
 "nbformat": 4,
 "nbformat_minor": 5
}
